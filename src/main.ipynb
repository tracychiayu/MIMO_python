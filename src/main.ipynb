{
 "cells": [
  {
   "cell_type": "code",
   "execution_count": 2,
   "metadata": {},
   "outputs": [
    {
     "data": {
      "text/plain": [
       "<function svd at 0x108bc6870>"
      ]
     },
     "execution_count": 2,
     "metadata": {},
     "output_type": "execute_result"
    }
   ],
   "source": [
    "import numpy as np\n",
    "import yaml\n",
    "\n",
    "with open(\"siso_mimo_config.yml\",\"r\") as f:\n",
    "    data=yaml.safe_load(f)\n",
    "\n",
    "EsN0dB=data['EsN0dB']\n",
    "EbN0dB=data['EbN0dB']\n",
    "N0=data['N0']\n",
    "EsN0dB_fine=data['EsN0dB_fine']\n",
    "EbN0dB_fine=data['EbN0dB_fine']\n",
    "N0_fine=data['N0_fine']\n",
    "Es=data['symbol_energy']\n"
   ]
  }
 ],
 "metadata": {
  "kernelspec": {
   "display_name": "base",
   "language": "python",
   "name": "python3"
  },
  "language_info": {
   "codemirror_mode": {
    "name": "ipython",
    "version": 3
   },
   "file_extension": ".py",
   "mimetype": "text/x-python",
   "name": "python",
   "nbconvert_exporter": "python",
   "pygments_lexer": "ipython3",
   "version": "3.9.19"
  }
 },
 "nbformat": 4,
 "nbformat_minor": 2
}
